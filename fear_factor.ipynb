{
  "nbformat": 4,
  "nbformat_minor": 0,
  "metadata": {
    "colab": {
      "name": "fear_factor.ipynb",
      "provenance": [],
      "collapsed_sections": [],
      "mount_file_id": "1HEzGZRnjvInM72QXb1MG9jXexls_mL-U",
      "authorship_tag": "ABX9TyPBSgfGJ83YypeOOeWpF5Bu",
      "include_colab_link": true
    },
    "kernelspec": {
      "name": "python3",
      "display_name": "Python 3"
    }
  },
  "cells": [
    {
      "cell_type": "markdown",
      "metadata": {
        "id": "view-in-github",
        "colab_type": "text"
      },
      "source": [
        "<a href=\"https://colab.research.google.com/github/lednesday/443MealPlanner/blob/add_cook_dish/fear_factor.ipynb\" target=\"_parent\"><img src=\"https://colab.research.google.com/assets/colab-badge.svg\" alt=\"Open In Colab\"/></a>"
      ]
    },
    {
      "cell_type": "code",
      "metadata": {
        "id": "D-4BteWseUYF"
      },
      "source": [
        "import sklearn\n",
        "import numpy\n",
        "import pandas"
      ],
      "execution_count": 4,
      "outputs": []
    }
  ]
}